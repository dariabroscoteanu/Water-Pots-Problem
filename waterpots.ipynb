{
 "cells": [
  {
   "cell_type": "markdown",
   "id": "69a1e5e6",
   "metadata": {
    "papermill": {
     "duration": 0.020446,
     "end_time": "2022-05-28T14:43:01.316584",
     "exception": false,
     "start_time": "2022-05-28T14:43:01.296138",
     "status": "completed"
    },
    "tags": []
   },
   "source": [
    "# Colored Water Pots Problem - First Project - Knowledge Representation"
   ]
  },
  {
   "cell_type": "markdown",
   "id": "efdc7d07",
   "metadata": {
    "papermill": {
     "duration": 0.020973,
     "end_time": "2022-05-28T14:43:01.357267",
     "exception": false,
     "start_time": "2022-05-28T14:43:01.336294",
     "status": "completed"
    },
    "tags": []
   },
   "source": [
    "## Imports "
   ]
  },
  {
   "cell_type": "code",
   "execution_count": 1,
   "id": "60af54e0",
   "metadata": {
    "execution": {
     "iopub.execute_input": "2022-05-28T14:43:01.398352Z",
     "iopub.status.busy": "2022-05-28T14:43:01.397762Z",
     "iopub.status.idle": "2022-05-28T14:43:01.410493Z",
     "shell.execute_reply": "2022-05-28T14:43:01.409766Z"
    },
    "papermill": {
     "duration": 0.036048,
     "end_time": "2022-05-28T14:43:01.412839",
     "exception": false,
     "start_time": "2022-05-28T14:43:01.376791",
     "status": "completed"
    },
    "tags": []
   },
   "outputs": [],
   "source": [
    "import os\n",
    "import copy\n",
    "import sys\n",
    "import time"
   ]
  },
  {
   "cell_type": "markdown",
   "id": "b12783aa",
   "metadata": {
    "papermill": {
     "duration": 0.019173,
     "end_time": "2022-05-28T14:43:01.451300",
     "exception": false,
     "start_time": "2022-05-28T14:43:01.432127",
     "status": "completed"
    },
    "tags": []
   },
   "source": [
    "## Classes "
   ]
  },
  {
   "cell_type": "markdown",
   "id": "87844f03",
   "metadata": {
    "papermill": {
     "duration": 0.022057,
     "end_time": "2022-05-28T14:43:01.493650",
     "exception": false,
     "start_time": "2022-05-28T14:43:01.471593",
     "status": "completed"
    },
    "tags": []
   },
   "source": [
    "### Node Class\n",
    "\n",
    "**Node class constructor:**\n",
    "* **info** - type: list(dictionary) - contains informations about the water pots \n",
    "\n",
    "    info =[ { \"id\" : number, \"capacity\" : number, \"quantity\" : number, \"color\" : string }, ... ]\n",
    "    \n",
    "* **cost** - type: number - is the cost of the path to the current node\n",
    "* **heuristic**  - type: number - is the cost of the path from the current node to the destination node\n",
    "* **estimated_cost** - type: number - is cost + heuristic\n",
    "* **parent** : type: Node - is the current node's parent in the path\n",
    "* **path_info** - type: dictionary - contains informations about the combanation of the pots\n",
    "\n",
    "    path_info = { \"first_pot\" : potInfo, \"second_pot\" : potInfo, \"color\" : string, \"poured_liters\" : number }"
   ]
  },
  {
   "cell_type": "code",
   "execution_count": 2,
   "id": "60ef1760",
   "metadata": {
    "execution": {
     "iopub.execute_input": "2022-05-28T14:43:01.532973Z",
     "iopub.status.busy": "2022-05-28T14:43:01.532673Z",
     "iopub.status.idle": "2022-05-28T14:43:01.553263Z",
     "shell.execute_reply": "2022-05-28T14:43:01.552381Z"
    },
    "papermill": {
     "duration": 0.043539,
     "end_time": "2022-05-28T14:43:01.555784",
     "exception": false,
     "start_time": "2022-05-28T14:43:01.512245",
     "status": "completed"
    },
    "tags": []
   },
   "outputs": [],
   "source": [
    "class Node:\n",
    "    \n",
    "    # Class Constructor\n",
    "    # Node (info, parent, cost, h, pathInfo)\n",
    "    graph = None\n",
    "    \n",
    "    def __init__(self, info: list, parent,  cost = 0, heuristic = 0, path_info = {}):\n",
    "        # type: list(dictionary) - contains informations about the water pots\n",
    "        self.info = info\n",
    "        \n",
    "        # type: Node - is the current node's parent in the path\n",
    "        self.parent = parent\n",
    "        \n",
    "        # type: number - is the cost of the path to the current node\n",
    "        self.cost = cost\n",
    "        \n",
    "        # type: number - is the cost of the path from the current node to the destination node\n",
    "        self.heuristic = heuristic\n",
    "        \n",
    "        # type: number - is cost + heuristic\n",
    "        self.estimated_cost = self.cost + self.heuristic\n",
    "        \n",
    "        # type: type: dictionary- contains informations about the combanation of the pots\n",
    "        self.path_info = path_info\n",
    "    \n",
    "    def __str__(self):\n",
    "        result_string = \"\"\n",
    "        \n",
    "        # { \"id\" : number, \"capacity\" : number, \"quantity\" : number, \"color\" : string }\n",
    "        for pot in self.info:\n",
    "            values = list(pot.values())\n",
    "            if values[3] != None and values[3] != \"undefined\":\n",
    "                result_string += f\"Pot -> id = {values[0]}; capacity = {values[1]}; quantity = {values[2]};  color = {values[3]};\\n\"\n",
    "            else:\n",
    "                result_string += f\"Pot -> id = {values[0]}; capacity = {values[1]}; quantity = {values[2]};\\n\"\n",
    "        \n",
    "        return result_string\n",
    "    \n",
    "    def __repr__(self):\n",
    "        result_string = f\"Node info: {str(self.info)}\"+ \"\\n\"\n",
    "        if self.parent != None:\n",
    "            result_string += f\"Parent: {str(self.parent.info)}\"+ \"\\n\"\n",
    "        else:\n",
    "            result_string += f\"Parent: None\"+ \"\\n\"\n",
    "        result_string += f\"Cost: {str(self.cost)}\"+ \"\\n\"\n",
    "        result_string += f\"Heuristic: {str(self.heuristic)}\"+ \"\\n\"\n",
    "        result_string += f\"Estimated Cost: {str(self.estimated_cost)}\"+ \"\\n\"\n",
    "        result_string += f\"Path Info: {str(self.path_info)}\"+ \"\\n\"\n",
    "        return result_string                                   \n",
    "    \n",
    "    def get_path(self):\n",
    "        node = self\n",
    "        path = [node]\n",
    "        \n",
    "        while node.parent is not None:\n",
    "            path.insert(0, node.parent)\n",
    "            node = node.parent\n",
    "        \n",
    "        return path\n",
    "    \n",
    "    def print_path(self, print_cost = False, print_length = False):\n",
    "        result_string = \"\"\n",
    "        path = self.get_path()\n",
    "        \n",
    "        for node in path:\n",
    "            path_info = node.path_info\n",
    "            \n",
    "            if path_info != None and node.parent is not None:\n",
    "                values = list(path_info.values())\n",
    "                # { \"first_pot\" : potInfo, \"second_pot\" : potInfo, \"color\" : string, \"poured_liters\" : number }\n",
    "                result_string += f\"{values[3]} liters of colored water {values[2]} were poured from the pot {values[0]} into the pot {values[1]}\\n\"\n",
    "                result_string = node.__str__() + \"\\n\"\n",
    "                \n",
    "        if print_cost:\n",
    "            result_string += \"Path cost: \" + str(self.estimated_cost) + \"\\n\"\n",
    "        if print_length:\n",
    "            result_string += \"Path length: \" + str(len(path)) + \"\\n\"\n",
    "            \n",
    "        return result_string\n",
    "    \n",
    "    def contain_path(self, checked_node):\n",
    "        node = self\n",
    "\n",
    "        while node is not None:\n",
    "            if node.info == checked_node:\n",
    "                return True\n",
    "            node = node.parent\n",
    "        \n",
    "        return False\n",
    "    \n",
    "    def has_final_state(self, final_state):\n",
    "        for state_pot in final_state:\n",
    "            # {\"quantity\" :  number, \"color\" : string}\n",
    "            values = list(state_pot.values())\n",
    "            ok = False\n",
    "            for pot in self.info:\n",
    "                # { \"id\" : number, \"capacity\" : number, \"quantity\" : number, \"color\" : string }\n",
    "                pot_values = list(pot.values())\n",
    "                if values[0] == pot_values[2] and values[1] == pot_values[3]:\n",
    "                    ok = True\n",
    "                    break\n",
    "            if not ok:\n",
    "                return ok\n",
    "        return True\n",
    "                \n",
    "    "
   ]
  },
  {
   "cell_type": "code",
   "execution_count": 3,
   "id": "2fbd181d",
   "metadata": {
    "execution": {
     "iopub.execute_input": "2022-05-28T14:43:01.596764Z",
     "iopub.status.busy": "2022-05-28T14:43:01.596431Z",
     "iopub.status.idle": "2022-05-28T14:43:01.603972Z",
     "shell.execute_reply": "2022-05-28T14:43:01.602992Z"
    },
    "papermill": {
     "duration": 0.031116,
     "end_time": "2022-05-28T14:43:01.606812",
     "exception": false,
     "start_time": "2022-05-28T14:43:01.575696",
     "status": "completed"
    },
    "tags": []
   },
   "outputs": [
    {
     "name": "stdout",
     "output_type": "stream",
     "text": [
      "Pot -> id = 1; capacity = 10; quantity = 8;  color = rosu;\n",
      "\n",
      "Node info: [{'id': 1, 'capacity': 10, 'quantity': 8, 'color': 'rosu'}]\n",
      "Parent: None\n",
      "Cost: 0\n",
      "Heuristic: 0\n",
      "Estimated Cost: 0\n",
      "Path Info: {}\n",
      "\n",
      "False\n",
      "False\n"
     ]
    }
   ],
   "source": [
    "# For testing\n",
    "node = Node([{ \"id\" : 1, \"capacity\" : 10, \"quantity\" : 8, \"color\" : \"rosu\" }], None)\n",
    "print(node.__str__())\n",
    "print(node.__repr__())\n",
    "print(node.has_final_state([{\"quantity\" :  8, \"color\" : \"red\"}]))\n",
    "print(node.has_final_state([{\"quantity\" :  8, \"color\" : \"blue\"}]))"
   ]
  },
  {
   "cell_type": "code",
   "execution_count": 4,
   "id": "0866dac5",
   "metadata": {
    "execution": {
     "iopub.execute_input": "2022-05-28T14:43:01.650964Z",
     "iopub.status.busy": "2022-05-28T14:43:01.650660Z",
     "iopub.status.idle": "2022-05-28T14:43:01.727835Z",
     "shell.execute_reply": "2022-05-28T14:43:01.726432Z"
    },
    "papermill": {
     "duration": 0.102048,
     "end_time": "2022-05-28T14:43:01.730515",
     "exception": false,
     "start_time": "2022-05-28T14:43:01.628467",
     "status": "completed"
    },
    "tags": []
   },
   "outputs": [],
   "source": [
    "class Graph:\n",
    "    def __init__(self, input_filename, output_filename, output_path, timeout):\n",
    "        self.timeout = timeout\n",
    "        \n",
    "        self.last_checked_timeout  = time.time()\n",
    "        \n",
    "        output_filepath = output_path + \"/\" + output_filename\n",
    "        self.output_file = open(output_filepath, \"w\")\n",
    "        \n",
    "        self.check_timeout()\n",
    "        \n",
    "        try:\n",
    "            reader = open(input_filename, \"r\")\n",
    "            \n",
    "            try:\n",
    "                file_content = reader.read()\n",
    "                \n",
    "                initial_info, start_state, final_state = self.split_file(file_content)\n",
    "                \n",
    "                self.color_combinations, self.color_cost = self.parse_initial_info(initial_info)\n",
    "                \n",
    "                self.start_state = self.parse_start_state(start_state)\n",
    "                \n",
    "                self.final_state = self.parse_final_state(final_state)\n",
    "            \n",
    "            except:\n",
    "                print(f\"Could not parse the file! Filename:{input_filename}\")\n",
    "                sys.exit(0)\n",
    "        except:\n",
    "            print(f\"Could not open the input file! Filename:{input_filename}\")\n",
    "            sys.exit(0)\n",
    "          \n",
    "    def check_timeout(self):\n",
    "        current_time = time.time()\n",
    "        \n",
    "        time_difference = current_time - self.last_checked_timeout\n",
    "        time_difference *= 1000\n",
    "        \n",
    "        if self.timeout < time_difference:\n",
    "            print(f\"Time Limit Exceeded\")\n",
    "            sys.exit(0)\n",
    "        \n",
    "    def split_file(self, file_content):\n",
    "        self.check_timeout()\n",
    "        \n",
    "        first_split = file_content.strip().split(\"start_state\")\n",
    "        second_split = first_split[1].strip().split(\"final_state\")\n",
    "        \n",
    "        initial_info = first_split[0].strip().split('\\n')\n",
    "        start_state = second_split[0].strip().split('\\n')\n",
    "        final_state = second_split[1].strip().split('\\n')\n",
    "        \n",
    "        return initial_info, start_state, final_state\n",
    "    \n",
    "    \n",
    "    def parse_initial_info(self, initial_info):\n",
    "        self.check_timeout()\n",
    "        \n",
    "        color_combinations = list()\n",
    "        color_cost = dict()\n",
    "        \n",
    "        for line in initial_info:\n",
    "            content = line.split()\n",
    "            if len(content) == 2:\n",
    "                color_cost[content[0]] = int(content[1])\n",
    "            else:\n",
    "                color_combinations.append((content[0], content[1], content[2]))\n",
    "        return color_combinations, color_cost\n",
    "    \n",
    "    \n",
    "    def parse_start_state(self, start_state):\n",
    "        self.check_timeout()\n",
    "        \n",
    "        print(start_state)\n",
    "        state = []\n",
    "        count = 0\n",
    "        for line in start_state:\n",
    "            content = line.split()\n",
    "            if len(content) == 2:\n",
    "                new_dict = dict()    \n",
    "                new_dict = {\"id\" : count, \"capacity\" : int(content[0]), \"quantity\" : 0, \"color\" : None}\n",
    "                state.append(new_dict)\n",
    "            else:\n",
    "                if content[2] not in self.color_cost.keys():\n",
    "                    raise Exception\n",
    "                new_dict = dict()    \n",
    "                new_dict = {\"id\" : count, \"capacity\" : int(content[0]), \"quantity\" : int(content[1]), \"color\" : content[2]}\n",
    "                state.append(new_dict)\n",
    "            count += 1\n",
    "        return state\n",
    "    \n",
    "    \n",
    "    def parse_final_state(self, final_state):\n",
    "        self.check_timeout()\n",
    "        \n",
    "        state = []\n",
    "        for line in final_state:\n",
    "            content = line.split()\n",
    "            if content[1] not in self.color_cost.keys():\n",
    "                    raise Exception\n",
    "            state.append((int(content[0]),content[1]))\n",
    "        return state\n",
    "    \n",
    "    \n",
    "    def find_distinct_colors(self):\n",
    "        self.check_timeout()\n",
    "        \n",
    "        found_colors = set()\n",
    "        for (color1, color2, color3) in self.color_combinations:\n",
    "            found_colors.add(color1)\n",
    "            found_colors.add(color2)     \n",
    "        return found_colors\n",
    "    \n",
    "    \n",
    "    def count_combinations(self, info):\n",
    "        self.check_timeout()\n",
    "        \n",
    "        found_colors = self.find_distinct_colors()\n",
    "        number = 0\n",
    "        for color in found_colors:\n",
    "            for pot in info:\n",
    "                values = list(pot.values())\n",
    "                # \"Pot -> id = {values[0]}; color = {values[3]}; quantity = {values[2]}; capacity = {values[1]}\\n\"\n",
    "                if values[3] == color:\n",
    "                    number += 1\n",
    "                    break\n",
    "        return number\n",
    "            \n",
    "    def count_final(self, info):\n",
    "        self.check_timeout()\n",
    "        \n",
    "        number = 0\n",
    "        for (color1, color2, color3) in self.color_combinations:\n",
    "            for pot in info:\n",
    "                values = list(pot.values())\n",
    "                # \"Pot -> id = {values[0]}; color = {values[3]}; quantity = {values[2]}; capacity = {values[1]}\\n\"\n",
    "                if values[3] == color3:\n",
    "                    number += 1\n",
    "                    break\n",
    "        return number\n",
    "    \n",
    "    \n",
    "    def check_final(self, info):\n",
    "        self.check_timeout()\n",
    "        \n",
    "        for (quantity, color) in self.final_state:\n",
    "            count_errors = 0\n",
    "            for pot in info:\n",
    "#                 print(pot)\n",
    "                values = list(pot.values())\n",
    "                if quantity > values[1]:\n",
    "                    count_errors += 1\n",
    "                if count_errors == len(info):\n",
    "                    return False\n",
    "        return True\n",
    "    \n",
    "    \n",
    "    def check_node(self, info):\n",
    "        self.check_timeout()\n",
    "        \n",
    "        count_final_colors = self.count_final(info)\n",
    "        count_color_combinations = self.count_combinations(info)\n",
    "        check_final_state = self.check_final(info)\n",
    "        \n",
    "        if count_final_colors == len(self.color_combinations) and count_color_combinations == 0:\n",
    "            return True\n",
    "        elif count_final_colors == 0 and count_color_combinations >= 2:\n",
    "            return True\n",
    "        elif count_color_combinations != 0 and count_final_colors != 0:\n",
    "            return True\n",
    "        \n",
    "        return False\n",
    "    \n",
    "    \n",
    "    def check_color_combination(self, first_color, second_color):\n",
    "        self.check_timeout()\n",
    "        \n",
    "        for (color1, color2, color3) in self.color_combinations:\n",
    "            if ((color1 == first_color) and (color2 == second_color)) or((color1 == second_color) and (color2 == first_color)):\n",
    "                return True, color3\n",
    "        return False, None\n",
    "                \n",
    "    \n",
    "    def generate_succesors(self, node, heuristic = \"default\"):\n",
    "        self.check_timeout()\n",
    "        \n",
    "        succesors = list()\n",
    "        count = 0\n",
    "        for first_pot in node.info:\n",
    "            # { \"id\" : number, \"capacity\" : number, \"quantity\" : number, \"color\" : string }\n",
    "            first_pot_values = list(first_pot.values())\n",
    "            \n",
    "            number = 0\n",
    "            for second_pot in node.info:\n",
    "                if count == number:\n",
    "                    continue\n",
    "                \n",
    "                second_pot_values = list(second_pot.values())\n",
    "                new_node = copy.deepcopy(node.info)\n",
    "                first_pot_copy = copy.deepcopy(first_pot_values)\n",
    "                second_pot_copy = copy.deepcopy(second_pot_values)\n",
    "                quantity_difference = second_pot_copy[1] - second_pot_copy[2]\n",
    "                transfer_cost = 0\n",
    "                color_path = dict()\n",
    "                \n",
    "                #  { \"first_pot\" : potInfo, \"second_pot\" : potInfo, \"color\" : string, \"poured_liters\" : number }\n",
    "                color_path[\"first_pot\"] = first_pot_copy[0] # take the id of the pots we use\n",
    "                color_path[\"second_pot\"] = second_pot_copy[0]\n",
    "                \n",
    "                if quantity_difference: # the second pot is not full \n",
    "                    \n",
    "                    if second_pot_copy[2] != 0: # second pot is empty \n",
    "                        second_pot_copy[3] = first_pot_copy[3] \n",
    "                        color_path[\"color\"] = first_pot_copy[3]\n",
    "                        \n",
    "                        if first_pot_copy[3] in self.color_cost.keys(): # this color is not undefined\n",
    "                            transfer_cost += quantity_difference * self.color_cost[first_pot_copy[3]]\n",
    "                        else:  # we are transfering undefined color => quantity to be moved *  1\n",
    "                            transfer_cost += quantity_difference * 1\n",
    "                            \n",
    "                    else: # the second pot is not empty, so we are making a new color (and we need to take into consideration the color already found there)\n",
    "                        if first_pot_copy[3] != None and first_pot_copy[3] == second_pot_copy[3]: # we found the same color in the pots and the color is not undefined\n",
    "                            color_path[\"color\"] = first_pot_copy[3]\n",
    "                            \n",
    "                            if first_pot_copy[3] in self.color_cost.keys(): # this color is not undefined\n",
    "                                transfer_cost += quantity_difference * self.color_cost[first_pot_copy[3]]\n",
    "                        else:\n",
    "                            checker, color = self.check_color_combination(first_pot_copy[3], second_pot_copy[3])\n",
    "                            if checker:\n",
    "                                second_pot_copy[3] = color\n",
    "                                color_path[\"color\"] = first_pot_copy[3]\n",
    "                                if first_pot_copy[3] in self.color_cost.keys(): # this color is not undefined\n",
    "                                    transfer_cost += quantity_difference * self.color_cost[first_pot_copy[3]]\n",
    "                                    \n",
    "                            elif first_pot_copy[2] > 0: # first pot is not empty and the resulted color is undefined\n",
    "                                # color cost = quantity diff *  first color cost + quantity found in second pot * second color cost\n",
    "                                first_cost = second_cost = 0\n",
    "                                if first_pot_copy[3] in self.color_cost.keys(): # this color is not undefined\n",
    "                                    first_cost = quantity_difference * self.color_cost[first_pot_copy[3]]\n",
    "                                    \n",
    "                                if second_pot_copy[3] in self.color_cost.keys(): # this color is not undefined\n",
    "                                    second_cost = second_pot_copy[2] * self.color_cost[second_pot_copy[3]]\n",
    "                                    \n",
    "                                if first_cost == 0: # first color is undefined\n",
    "                                    color_path[\"color\"] = \"undefined\"\n",
    "                                    transfer_cost += quantity_difference * 1 \n",
    "                                elif second_cost == 0: # the color is already undefined\n",
    "                                    color_path[\"color\"] = \"undefined\"\n",
    "                                    transfer_cost += second_pot_copy[2] * 1 \n",
    "                                else:\n",
    "                                    color_path[\"color\"] = first_pot_copy[3]\n",
    "                                    transfer_cost += first_cost + second_cost\n",
    "                                    \n",
    "                                second_pot_copy[3] = None\n",
    "                \n",
    "                    \n",
    "                    if quantity_difference > first_pot_copy[2]: # we can move more liquid than we have => the first pot will be empty\n",
    "                        second_pot_copy[2] += first_pot_copy[2]\n",
    "                        color_path[\"poured_liters\"] = first_pot_copy[2]\n",
    "                        first_pot_copy[2] = 0\n",
    "                    else:\n",
    "                        color_path[\"poured_liters\"] = quantity_difference\n",
    "                        first_pot_copy[2] -= quantity_difference\n",
    "                        second_pot_copy[2] += quantity_difference\n",
    "                        \n",
    "                if first_pot_copy[2] == 0:\n",
    "                    first_pot_copy[2] = None\n",
    "                if second_pot_copy[2] == 0:\n",
    "                    second_pot_copy[3] = None\n",
    "                    \n",
    "                c = 0\n",
    "                for new_pot in new_node:\n",
    "                    # \"Pot -> id = {values[0]}; color = {values[3]}; quantity = {values[2]}; capacity = {values[1]}\\n\"\n",
    "                    if c == count:\n",
    "                        new_pot_values = list(new_pot.values())\n",
    "                        new_pot_values[2] = copy.deepcopy(first_pot_copy[2])\n",
    "                        new_pot_values[3] = copy.deepcopy(first_pot_copy[3])\n",
    "                        new_dict = dict()\n",
    "                        new_dict = {\"id\" : new_pot_values[0], \"capacity\" : new_pot_values[1], \"quantity\" : new_pot_values[2], \"color\" : new_pot_values[3]}\n",
    "\n",
    "                        new_node[c] = copy.deepcopy(new_dict)\n",
    "                    elif c == number:\n",
    "                        new_pot_values = list(new_pot.values())\n",
    "                        new_pot_values[2] = copy.deepcopy(second_pot_copy[2])\n",
    "                        new_pot_values[3] = copy.deepcopy(second_pot_copy[3])\n",
    "                        new_dict = dict()\n",
    "                        new_dict = {\"id\" : new_pot_values[0], \"capacity\" : new_pot_values[1], \"quantity\" : new_pot_values[2],\"color\" : new_pot_values[3]}\n",
    "                        new_node[c] = copy.deepcopy(new_dict)\n",
    "                    c += 1\n",
    "                    \n",
    "                if self.check_node(new_node) and (not node.contain_path(new_node)):\n",
    "                    # (self, info: list, parent,  cost = 0, heuristic = 0, path_info = {})\n",
    "                    succesors.append(Node(new_node, node, node.cost + transfer_cost, self.compute_heuristic(new_node, heuristic), color_path))\n",
    "                number += 1\n",
    "            count += 1\n",
    "        return succesors\n",
    "        \n",
    "        \n",
    "    def find_color(self, color, info):\n",
    "        for pot in info:\n",
    "            values = list(pot.values())\n",
    "            if values[3] == color:\n",
    "                return True\n",
    "        return False\n",
    "        \n",
    "        \n",
    "    def count_color_apperances(self, color, info):\n",
    "        number = 0\n",
    "        for pot in info:\n",
    "            values = list(pot.values())\n",
    "            if values[3] == color:\n",
    "                number += 1\n",
    "        return number\n",
    "        \n",
    "        \n",
    "    def compute_heuristic(self, node_info, heuristic = \"default\"):\n",
    "        self.check_timeout()\n",
    "        \n",
    "        # default heuristic\n",
    "        if heuristic == \"default\":\n",
    "            if self.check_final(node_info):\n",
    "                return 1\n",
    "            return 0\n",
    "        elif heuristic == \"admissible 1\":\n",
    "            \n",
    "            # compunte the number of transfers required to get the colors specified in final states \n",
    "            # the heuristic is the minimum number\n",
    "            # for pots that are already in final state, the heuristic equals to 0\n",
    "            \n",
    "            heuristics = list()\n",
    "            \n",
    "            for (quantity, color) in self.final_state:\n",
    "                current_heuristic = 0\n",
    "                \n",
    "                if self.find_color(color, node_info) == False:\n",
    "                    for (color1, color2, color3) in self.color_combinations:\n",
    "                        cost_color1 = self.cost[color1]\n",
    "                        cost_color2 = self.cost[color2]\n",
    "                        \n",
    "                        color1_apperances = self.count_color_apperances(color1, node_info)\n",
    "                        color2_apperances = self.count_color_apperances(color2, node_info)\n",
    "                        \n",
    "                        color1_total = cost_color1 * color1_apperances\n",
    "                        color2_total = cost_color2 * color2_apperances\n",
    "                        \n",
    "                        current_heuristic = min(color1_total, color2_total)\n",
    "                \n",
    "                heuristics.append(current_heuristic)\n",
    "            \n",
    "            self.check_timeout()\n",
    "            \n",
    "            return min(heuristics)\n",
    "        \n",
    "        elif heuristic == \"admissible 2\":\n",
    "            \n",
    "            # for pots that are already in final state, the heuristic equals to 0\n",
    "            # we compute the minimum cost between the colors that can be mixed in order to get a final state color\n",
    "            \n",
    "            heuristics = list()\n",
    "                \n",
    "            for (quantity, color) in self.final_state:\n",
    "                current_heuristic = 0\n",
    "                \n",
    "                if self.find_color(color, node_info) == False:\n",
    "                    for (color1, color2, color3) in self.color_combinations:\n",
    "                        cost_color1 = self.cost[color1]\n",
    "                        cost_color2 = self.cost[color2]\n",
    "                        \n",
    "                        current_heuristic = min(cost_color1, cost_color2)\n",
    "                \n",
    "                heuristics.append(current_heuristic)\n",
    "                \n",
    "            self.check_timeout()\n",
    "                \n",
    "            return min(heuristics)\n",
    "            \n",
    "        elif heuristic == \"inadmissible\":\n",
    "            \n",
    "            # an inadmissible heuristic can be created by changing the second admissible heuristic\n",
    "            # instead of taking the minimum between the costs, we can take the maximum value \n",
    "            # and to be sure it is inadmissible, we take teh square value\n",
    "            \n",
    "            heuristics = list()\n",
    "                \n",
    "            for (quantity, color) in self.final_state:\n",
    "                current_heuristic = 0\n",
    "                \n",
    "                if self.find_color(color, node_info) == False:\n",
    "                    for (color1, color2, color3) in self.color_combinations:\n",
    "                        cost_color1 = self.cost[color1]\n",
    "                        cost_color2 = self.cost[color2]\n",
    "                        \n",
    "                        current_heuristic = max(cost_color1, cost_color2)\n",
    "                        current_heuristic *= current_heuristic\n",
    "                \n",
    "                heuristics.append(current_heuristic)\n",
    "                \n",
    "            self.check_timeout()\n",
    "                \n",
    "            return max(heuristics)                                                                                          \n",
    "        "
   ]
  },
  {
   "cell_type": "code",
   "execution_count": 5,
   "id": "95591272",
   "metadata": {
    "execution": {
     "iopub.execute_input": "2022-05-28T14:43:01.772881Z",
     "iopub.status.busy": "2022-05-28T14:43:01.772071Z",
     "iopub.status.idle": "2022-05-28T14:43:01.778106Z",
     "shell.execute_reply": "2022-05-28T14:43:01.776771Z"
    },
    "papermill": {
     "duration": 0.029087,
     "end_time": "2022-05-28T14:43:01.780683",
     "exception": false,
     "start_time": "2022-05-28T14:43:01.751596",
     "status": "completed"
    },
    "tags": []
   },
   "outputs": [],
   "source": [
    "def a_star(graph, number_of_solutions = 1, heuristic = \"default\"):\n",
    "    \n",
    "    unexpanded = list()\n",
    "    node = Node(graph.start_state, None, 0, graph.compute_heuristic(graph.start, heuristic),{})\n",
    "    unexpanded.append(node)\n",
    "\n",
    "    expanded = list()\n",
    "    \n",
    "    \n",
    "    "
   ]
  },
  {
   "cell_type": "code",
   "execution_count": 6,
   "id": "b2880089",
   "metadata": {
    "execution": {
     "iopub.execute_input": "2022-05-28T14:43:01.821840Z",
     "iopub.status.busy": "2022-05-28T14:43:01.821549Z",
     "iopub.status.idle": "2022-05-28T14:43:01.827288Z",
     "shell.execute_reply": "2022-05-28T14:43:01.826538Z"
    },
    "papermill": {
     "duration": 0.029129,
     "end_time": "2022-05-28T14:43:01.830060",
     "exception": false,
     "start_time": "2022-05-28T14:43:01.800931",
     "status": "completed"
    },
    "tags": []
   },
   "outputs": [],
   "source": [
    "input_text = \"\"\"\n",
    "rosu galben portocaliu\n",
    "rosu 2\n",
    "galben 3\n",
    "portocaliu 5\n",
    "start_state\n",
    "3 2 rosu\n",
    "2 1 galben\n",
    "4 2 portocaliu\n",
    "final_state\n",
    "2 rosu\n",
    "1 galben\n",
    "2 portocaliu\n",
    "\"\"\"\n",
    "\n",
    "with open(\"input.txt\", \"w+\") as fin:\n",
    "  fin.write(input_text)\n"
   ]
  },
  {
   "cell_type": "code",
   "execution_count": 7,
   "id": "638cb197",
   "metadata": {
    "execution": {
     "iopub.execute_input": "2022-05-28T14:43:01.871483Z",
     "iopub.status.busy": "2022-05-28T14:43:01.870671Z",
     "iopub.status.idle": "2022-05-28T14:43:01.876239Z",
     "shell.execute_reply": "2022-05-28T14:43:01.875380Z"
    },
    "papermill": {
     "duration": 0.028866,
     "end_time": "2022-05-28T14:43:01.878993",
     "exception": false,
     "start_time": "2022-05-28T14:43:01.850127",
     "status": "completed"
    },
    "tags": []
   },
   "outputs": [
    {
     "name": "stdout",
     "output_type": "stream",
     "text": [
      "['3 2 rosu', '2 1 galben', '4 2 portocaliu']\n"
     ]
    }
   ],
   "source": [
    "graph = Graph(\"./input.txt\", \"./file.txt\", \"./\", 5000)"
   ]
  },
  {
   "cell_type": "code",
   "execution_count": 8,
   "id": "595bd6a4",
   "metadata": {
    "execution": {
     "iopub.execute_input": "2022-05-28T14:43:01.922907Z",
     "iopub.status.busy": "2022-05-28T14:43:01.922347Z",
     "iopub.status.idle": "2022-05-28T14:43:01.930885Z",
     "shell.execute_reply": "2022-05-28T14:43:01.929922Z"
    },
    "papermill": {
     "duration": 0.033111,
     "end_time": "2022-05-28T14:43:01.933245",
     "exception": false,
     "start_time": "2022-05-28T14:43:01.900134",
     "status": "completed"
    },
    "tags": []
   },
   "outputs": [
    {
     "data": {
      "text/plain": [
       "[{'id': 0, 'capacity': 3, 'quantity': 2, 'color': 'rosu'},\n",
       " {'id': 1, 'capacity': 2, 'quantity': 1, 'color': 'galben'},\n",
       " {'id': 2, 'capacity': 4, 'quantity': 2, 'color': 'portocaliu'}]"
      ]
     },
     "execution_count": 8,
     "metadata": {},
     "output_type": "execute_result"
    }
   ],
   "source": [
    "graph.start_state"
   ]
  },
  {
   "cell_type": "code",
   "execution_count": 9,
   "id": "464fba45",
   "metadata": {
    "execution": {
     "iopub.execute_input": "2022-05-28T14:43:01.975662Z",
     "iopub.status.busy": "2022-05-28T14:43:01.975149Z",
     "iopub.status.idle": "2022-05-28T14:43:01.979695Z",
     "shell.execute_reply": "2022-05-28T14:43:01.978856Z"
    },
    "papermill": {
     "duration": 0.02839,
     "end_time": "2022-05-28T14:43:01.981930",
     "exception": false,
     "start_time": "2022-05-28T14:43:01.953540",
     "status": "completed"
    },
    "tags": []
   },
   "outputs": [],
   "source": [
    "node1 = Node(graph.start_state, None, 0, 0, [])"
   ]
  },
  {
   "cell_type": "code",
   "execution_count": 10,
   "id": "0ac58b6a",
   "metadata": {
    "execution": {
     "iopub.execute_input": "2022-05-28T14:43:02.029588Z",
     "iopub.status.busy": "2022-05-28T14:43:02.028841Z",
     "iopub.status.idle": "2022-05-28T14:43:02.035589Z",
     "shell.execute_reply": "2022-05-28T14:43:02.034619Z"
    },
    "papermill": {
     "duration": 0.032721,
     "end_time": "2022-05-28T14:43:02.037841",
     "exception": false,
     "start_time": "2022-05-28T14:43:02.005120",
     "status": "completed"
    },
    "tags": []
   },
   "outputs": [
    {
     "data": {
      "text/plain": [
       "[{'id': 0, 'capacity': 3, 'quantity': 2, 'color': 'rosu'},\n",
       " {'id': 1, 'capacity': 2, 'quantity': 1, 'color': 'galben'},\n",
       " {'id': 2, 'capacity': 4, 'quantity': 2, 'color': 'portocaliu'}]"
      ]
     },
     "execution_count": 10,
     "metadata": {},
     "output_type": "execute_result"
    }
   ],
   "source": [
    "node1.info"
   ]
  },
  {
   "cell_type": "code",
   "execution_count": 11,
   "id": "5eb1ac4c",
   "metadata": {
    "execution": {
     "iopub.execute_input": "2022-05-28T14:43:02.083214Z",
     "iopub.status.busy": "2022-05-28T14:43:02.082639Z",
     "iopub.status.idle": "2022-05-28T14:43:02.088714Z",
     "shell.execute_reply": "2022-05-28T14:43:02.088038Z"
    },
    "papermill": {
     "duration": 0.031292,
     "end_time": "2022-05-28T14:43:02.090828",
     "exception": false,
     "start_time": "2022-05-28T14:43:02.059536",
     "status": "completed"
    },
    "tags": []
   },
   "outputs": [
    {
     "data": {
      "text/plain": [
       "[('rosu', 'galben', 'portocaliu')]"
      ]
     },
     "execution_count": 11,
     "metadata": {},
     "output_type": "execute_result"
    }
   ],
   "source": [
    "graph.color_combinations"
   ]
  },
  {
   "cell_type": "code",
   "execution_count": 12,
   "id": "0810cc3a",
   "metadata": {
    "execution": {
     "iopub.execute_input": "2022-05-28T14:43:02.137146Z",
     "iopub.status.busy": "2022-05-28T14:43:02.136607Z",
     "iopub.status.idle": "2022-05-28T14:43:02.141743Z",
     "shell.execute_reply": "2022-05-28T14:43:02.140930Z"
    },
    "papermill": {
     "duration": 0.031519,
     "end_time": "2022-05-28T14:43:02.143846",
     "exception": false,
     "start_time": "2022-05-28T14:43:02.112327",
     "status": "completed"
    },
    "tags": []
   },
   "outputs": [
    {
     "data": {
      "text/plain": [
       "[(2, 'rosu'), (1, 'galben'), (2, 'portocaliu')]"
      ]
     },
     "execution_count": 12,
     "metadata": {},
     "output_type": "execute_result"
    }
   ],
   "source": [
    "graph.final_state"
   ]
  },
  {
   "cell_type": "code",
   "execution_count": 13,
   "id": "39c27459",
   "metadata": {
    "execution": {
     "iopub.execute_input": "2022-05-28T14:43:02.191301Z",
     "iopub.status.busy": "2022-05-28T14:43:02.190767Z",
     "iopub.status.idle": "2022-05-28T14:43:02.196623Z",
     "shell.execute_reply": "2022-05-28T14:43:02.195982Z"
    },
    "papermill": {
     "duration": 0.03143,
     "end_time": "2022-05-28T14:43:02.198663",
     "exception": false,
     "start_time": "2022-05-28T14:43:02.167233",
     "status": "completed"
    },
    "tags": []
   },
   "outputs": [
    {
     "data": {
      "text/plain": [
       "[Node info: [{'id': 0, 'capacity': 3, 'quantity': 3, 'color': 'galben'}, {'id': 1, 'capacity': 2, 'quantity': None, 'color': 'galben'}, {'id': 2, 'capacity': 4, 'quantity': 2, 'color': 'portocaliu'}]\n",
       " Parent: [{'id': 0, 'capacity': 3, 'quantity': 2, 'color': 'rosu'}, {'id': 1, 'capacity': 2, 'quantity': 1, 'color': 'galben'}, {'id': 2, 'capacity': 4, 'quantity': 2, 'color': 'portocaliu'}]\n",
       " Cost: 3\n",
       " Heuristic: 1\n",
       " Estimated Cost: 4\n",
       " Path Info: {'first_pot': 1, 'second_pot': 0, 'color': 'galben', 'poured_liters': 1},\n",
       " Node info: [{'id': 0, 'capacity': 3, 'quantity': 3, 'color': 'portocaliu'}, {'id': 1, 'capacity': 2, 'quantity': 1, 'color': 'galben'}, {'id': 2, 'capacity': 4, 'quantity': 1, 'color': 'portocaliu'}]\n",
       " Parent: [{'id': 0, 'capacity': 3, 'quantity': 2, 'color': 'rosu'}, {'id': 1, 'capacity': 2, 'quantity': 1, 'color': 'galben'}, {'id': 2, 'capacity': 4, 'quantity': 2, 'color': 'portocaliu'}]\n",
       " Cost: 5\n",
       " Heuristic: 1\n",
       " Estimated Cost: 6\n",
       " Path Info: {'first_pot': 2, 'second_pot': 0, 'color': 'portocaliu', 'poured_liters': 1},\n",
       " Node info: [{'id': 0, 'capacity': 3, 'quantity': 2, 'color': 'rosu'}, {'id': 1, 'capacity': 2, 'quantity': 2, 'color': 'portocaliu'}, {'id': 2, 'capacity': 4, 'quantity': 1, 'color': 'portocaliu'}]\n",
       " Parent: [{'id': 0, 'capacity': 3, 'quantity': 2, 'color': 'rosu'}, {'id': 1, 'capacity': 2, 'quantity': 1, 'color': 'galben'}, {'id': 2, 'capacity': 4, 'quantity': 2, 'color': 'portocaliu'}]\n",
       " Cost: 5\n",
       " Heuristic: 1\n",
       " Estimated Cost: 6\n",
       " Path Info: {'first_pot': 2, 'second_pot': 1, 'color': 'portocaliu', 'poured_liters': 1}]"
      ]
     },
     "execution_count": 13,
     "metadata": {},
     "output_type": "execute_result"
    }
   ],
   "source": [
    "graph.generate_succesors(node1)"
   ]
  },
  {
   "cell_type": "code",
   "execution_count": 14,
   "id": "a8475768",
   "metadata": {
    "execution": {
     "iopub.execute_input": "2022-05-28T14:43:02.244160Z",
     "iopub.status.busy": "2022-05-28T14:43:02.243600Z",
     "iopub.status.idle": "2022-05-28T14:43:02.247945Z",
     "shell.execute_reply": "2022-05-28T14:43:02.247206Z"
    },
    "papermill": {
     "duration": 0.029856,
     "end_time": "2022-05-28T14:43:02.250393",
     "exception": false,
     "start_time": "2022-05-28T14:43:02.220537",
     "status": "completed"
    },
    "tags": []
   },
   "outputs": [],
   "source": [
    "# .--.      .--.   ____   ,---------.    .-''-.  .-------.            .-------.     ,-----.  ,---------.   .-'''-.  \n",
    "# |  |_     |  | .'  __ `.\\          \\ .'_ _   \\ |  _ _   \\           \\  _(`)_ \\  .'  .-,  '.\\          \\ / _     \\ \n",
    "# | _( )_   |  |/   '  \\  \\`--.  ,---'/ ( ` )   '| ( ' )  |           | (_ o._)| / ,-.|  \\ _ \\`--.  ,---'(`' )/`--' \n",
    "# |(_ o _)  |  ||___|  /  |   |   \\  . (_ o _)  ||(_ o _) /           |  (_,_) /;  \\  '_ /  | :  |   \\  (_ o _).    \n",
    "# | (_,_) \\ |  |   _.-`   |   :_ _:  |  (_,_)___|| (_,_).' __         |   '-.-' |  _`,/ \\ _/  |  :_ _:   (_,_). '.  \n",
    "# |  |/    \\|  |.'   _    |   (_I_)  '  \\   .---.|  |\\ \\  |  |        |   |     : (  '\\_/ \\   ;  (_I_)  .---.  \\  : \n",
    "# |  '  /\\  `  ||  _( )_  |  (_(=)_)  \\  `-'    /|  | \\ `'   /        |   |      \\ `\"/  \\  ) /  (_(=)_) \\    `-'  | \n",
    "# |    /  \\    |\\ (_ o _) /   (_I_)    \\       / |  |  \\    /         /   )       '. \\_/``\".'    (_I_)   \\       /  \n",
    "# `---'    `---` '.(_,_).'    '---'     `'-..-'  ''-'   `'-'          `---'         '-----'      '---'    `-...-'   \n",
    "                                                                                                                  "
   ]
  }
 ],
 "metadata": {
  "kernelspec": {
   "display_name": "Python 3",
   "language": "python",
   "name": "python3"
  },
  "language_info": {
   "codemirror_mode": {
    "name": "ipython",
    "version": 3
   },
   "file_extension": ".py",
   "mimetype": "text/x-python",
   "name": "python",
   "nbconvert_exporter": "python",
   "pygments_lexer": "ipython3",
   "version": "3.7.12"
  },
  "papermill": {
   "default_parameters": {},
   "duration": 12.738593,
   "end_time": "2022-05-28T14:43:02.993638",
   "environment_variables": {},
   "exception": null,
   "input_path": "__notebook__.ipynb",
   "output_path": "__notebook__.ipynb",
   "parameters": {},
   "start_time": "2022-05-28T14:42:50.255045",
   "version": "2.3.4"
  }
 },
 "nbformat": 4,
 "nbformat_minor": 5
}
