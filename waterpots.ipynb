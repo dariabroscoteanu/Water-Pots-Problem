{
 "cells": [
  {
   "cell_type": "markdown",
   "id": "c0ab1286",
   "metadata": {
    "papermill": {
     "duration": 0.007572,
     "end_time": "2022-05-27T14:45:37.434309",
     "exception": false,
     "start_time": "2022-05-27T14:45:37.426737",
     "status": "completed"
    },
    "tags": []
   },
   "source": [
    "# Colored Water Pots Problem - First Project - Knowledge Representation"
   ]
  },
  {
   "cell_type": "markdown",
   "id": "2af4a66e",
   "metadata": {
    "papermill": {
     "duration": 0.006161,
     "end_time": "2022-05-27T14:45:37.447013",
     "exception": false,
     "start_time": "2022-05-27T14:45:37.440852",
     "status": "completed"
    },
    "tags": []
   },
   "source": [
    "## Imports "
   ]
  },
  {
   "cell_type": "code",
   "execution_count": 1,
   "id": "6e6bd97f",
   "metadata": {
    "execution": {
     "iopub.execute_input": "2022-05-27T14:45:37.461192Z",
     "iopub.status.busy": "2022-05-27T14:45:37.460847Z",
     "iopub.status.idle": "2022-05-27T14:45:37.468864Z",
     "shell.execute_reply": "2022-05-27T14:45:37.468191Z"
    },
    "papermill": {
     "duration": 0.017387,
     "end_time": "2022-05-27T14:45:37.470750",
     "exception": false,
     "start_time": "2022-05-27T14:45:37.453363",
     "status": "completed"
    },
    "tags": []
   },
   "outputs": [],
   "source": [
    "import os\n",
    "import copy"
   ]
  },
  {
   "cell_type": "markdown",
   "id": "638285a3",
   "metadata": {
    "papermill": {
     "duration": 0.005971,
     "end_time": "2022-05-27T14:45:37.483444",
     "exception": false,
     "start_time": "2022-05-27T14:45:37.477473",
     "status": "completed"
    },
    "tags": []
   },
   "source": [
    "## Classes "
   ]
  },
  {
   "cell_type": "markdown",
   "id": "d832b69c",
   "metadata": {
    "papermill": {
     "duration": 0.005916,
     "end_time": "2022-05-27T14:45:37.495562",
     "exception": false,
     "start_time": "2022-05-27T14:45:37.489646",
     "status": "completed"
    },
    "tags": []
   },
   "source": [
    "### Node Class\n",
    "\n",
    "**Node class constructor:**\n",
    "* **info** - type: list(dictionary) - contains informations about the water pots \n",
    "\n",
    "    info =[ { \"id\" : number, \"capacity\" : number, \"quantity\" : number, \"color\" : string }, ... ]\n",
    "    \n",
    "* **cost** - type: number - is the cost of the path to the current node\n",
    "* **heuristic**  - type: number - is the cost of the path from the current node to the destination node\n",
    "* **estimated_cost** - type: number - is cost + heuristic\n",
    "* **parent** : type: Node - is the current node's parent in the path\n",
    "* **path_info** - type: dictionary - contains informations about the combanation of the pots\n",
    "\n",
    "    path_info = { \"first_pot\" : potInfo, \"second_pot\" : potInfo, \"color\" : string, \"poured_liters\" : number }"
   ]
  },
  {
   "cell_type": "code",
   "execution_count": 2,
   "id": "6071cd18",
   "metadata": {
    "execution": {
     "iopub.execute_input": "2022-05-27T14:45:37.509835Z",
     "iopub.status.busy": "2022-05-27T14:45:37.509308Z",
     "iopub.status.idle": "2022-05-27T14:45:37.523813Z",
     "shell.execute_reply": "2022-05-27T14:45:37.522951Z"
    },
    "papermill": {
     "duration": 0.023841,
     "end_time": "2022-05-27T14:45:37.525667",
     "exception": false,
     "start_time": "2022-05-27T14:45:37.501826",
     "status": "completed"
    },
    "tags": []
   },
   "outputs": [],
   "source": [
    "class Node:\n",
    "    \n",
    "    # Class Constructor\n",
    "    # Node (info, parent, cost, h, pathInfo)\n",
    "    \n",
    "    def __init__(self, info: list, parent,  cost = 0, heuristic = 0, path_info = {}):\n",
    "        # type: list(dictionary) - contains informations about the water pots\n",
    "        self.info = info\n",
    "        \n",
    "        # type: Node - is the current node's parent in the path\n",
    "        self.parent = parent\n",
    "        \n",
    "        # type: number - is the cost of the path to the current node\n",
    "        self.cost = cost\n",
    "        \n",
    "        # type: number - is the cost of the path from the current node to the destination node\n",
    "        self.heuristic = heuristic\n",
    "        \n",
    "        # type: number - is cost + heuristic\n",
    "        self.estimated_cost = self.cost + self.heuristic\n",
    "        \n",
    "        # type: type: dictionary- contains informations about the combanation of the pots\n",
    "        self.path_info = path_info\n",
    "    \n",
    "    def __str__(self):\n",
    "        result_string = \"\"\n",
    "        \n",
    "        # { \"id\" : number, \"capacity\" : number, \"quantity\" : number, \"color\" : string }\n",
    "        for pot in self.info:\n",
    "            values = list(pot.values())\n",
    "            result_string += f\"Pot -> id = {values[0]}; color = {values[3]}; quantity = {values[2]}; capacity = {values[1]}\\n\"\n",
    "        \n",
    "        return result_string\n",
    "    \n",
    "    def __repr__(self):\n",
    "        result_string = f\"Node info: {str(self.info)}\"+ \"\\n\"\n",
    "        if self.parent != None:\n",
    "            result_string += f\"Parent: {str(self.parinte.info)}\"+ \"\\n\"\n",
    "        else:\n",
    "            result_string += f\"Parent: None\"+ \"\\n\"\n",
    "        result_string += f\"Cost: {str(self.cost)}\"+ \"\\n\"\n",
    "        result_string += f\"Heuristic: {str(self.heuristic)}\"+ \"\\n\"\n",
    "        result_string += f\"Estimated Cost: {str(self.estimated_cost)}\"+ \"\\n\"\n",
    "        result_string += f\"Path Info: {str(self.path_info)}\"+ \"\\n\"\n",
    "        return result_string                                   \n",
    "    \n",
    "    def get_path(self):\n",
    "        node = self\n",
    "        path = [node]\n",
    "        \n",
    "        while node.parent is not None:\n",
    "            path.insert(0, node.parent)\n",
    "            node = node.parent\n",
    "        \n",
    "        return path\n",
    "    \n",
    "    def print_path(self, print_cost = False, print_length = False):\n",
    "        result_string = \"\"\n",
    "        path = self.get_path()\n",
    "        \n",
    "        for node in path:\n",
    "            path_info = node.path_info\n",
    "            \n",
    "            if path_info != None and node.parent is not None:\n",
    "                values = list(path_info.values())\n",
    "                # { \"first_pot\" : potInfo, \"second_pot\" : potInfo, \"color\" : string, \"poured_liters\" : number }\n",
    "                result_string += f\"{values[3]} liters of colored water {values[2]} were poured from the pot {values[0]} into the pot {values[1]}\\n\"\n",
    "                result_string = node.__str__() + \"\\n\"\n",
    "                \n",
    "        if print_cost:\n",
    "            result_string += \"Path cost: \" + str(self.estimated_cost) + \"\\n\"\n",
    "        if print_length:\n",
    "            result_string += \"Path length: \" + str(len(path)) + \"\\n\"\n",
    "            \n",
    "        return result_string\n",
    "    \n",
    "    def contain_path(self, checked_node):\n",
    "        node = self\n",
    "\n",
    "        while node is not None:\n",
    "            if node.info == checked_node.info:\n",
    "                return True\n",
    "            node = node.parent\n",
    "        \n",
    "        return False\n",
    "    \n",
    "    def has_final_state(self, final_state):\n",
    "        for state_pot in final_state:\n",
    "            # {\"quantity\" :  number, \"color\" : string}\n",
    "            values = list(state_pot.values())\n",
    "            ok = False\n",
    "            for pot in self.info:\n",
    "                # { \"id\" : number, \"capacity\" : number, \"quantity\" : number, \"color\" : string }\n",
    "                pot_values = list(pot.values())\n",
    "                if values[0] == pot_values[2] and values[1] == pot_values[3]:\n",
    "                    ok = True\n",
    "                    break\n",
    "            if not ok:\n",
    "                return ok\n",
    "        return True\n",
    "                \n",
    "    "
   ]
  },
  {
   "cell_type": "code",
   "execution_count": 3,
   "id": "b49c3c4e",
   "metadata": {
    "execution": {
     "iopub.execute_input": "2022-05-27T14:45:37.540535Z",
     "iopub.status.busy": "2022-05-27T14:45:37.540266Z",
     "iopub.status.idle": "2022-05-27T14:45:37.546610Z",
     "shell.execute_reply": "2022-05-27T14:45:37.545804Z"
    },
    "papermill": {
     "duration": 0.016857,
     "end_time": "2022-05-27T14:45:37.549325",
     "exception": false,
     "start_time": "2022-05-27T14:45:37.532468",
     "status": "completed"
    },
    "tags": []
   },
   "outputs": [
    {
     "name": "stdout",
     "output_type": "stream",
     "text": [
      "Pot -> id = 1; color = red; quantity = 8; capacity = 10\n",
      "\n",
      "Node info: [{'id': 1, 'capacity': 10, 'quantity': 8, 'color': 'red'}]\n",
      "Parent: None\n",
      "Cost: 0\n",
      "Heuristic: 0\n",
      "Estimated Cost: 0\n",
      "Path Info: {}\n",
      "\n",
      "True\n",
      "False\n"
     ]
    }
   ],
   "source": [
    "# For testing\n",
    "node = Node([{ \"id\" : 1, \"capacity\" : 10, \"quantity\" : 8, \"color\" : \"red\" }], None)\n",
    "print(node.__str__())\n",
    "print(node.__repr__())\n",
    "print(node.has_final_state([{\"quantity\" :  8, \"color\" : \"red\"}]))\n",
    "print(node.has_final_state([{\"quantity\" :  8, \"color\" : \"blue\"}]))"
   ]
  },
  {
   "cell_type": "code",
   "execution_count": 4,
   "id": "9f61d251",
   "metadata": {
    "execution": {
     "iopub.execute_input": "2022-05-27T14:45:37.564792Z",
     "iopub.status.busy": "2022-05-27T14:45:37.564524Z",
     "iopub.status.idle": "2022-05-27T14:45:37.583638Z",
     "shell.execute_reply": "2022-05-27T14:45:37.583018Z"
    },
    "papermill": {
     "duration": 0.028908,
     "end_time": "2022-05-27T14:45:37.585403",
     "exception": false,
     "start_time": "2022-05-27T14:45:37.556495",
     "status": "completed"
    },
    "tags": []
   },
   "outputs": [],
   "source": [
    "class Graph:\n",
    "    def __init__(self, input_filename, output_filename, output_path, timeout):\n",
    "        self.timeout = timeout\n",
    "        try:\n",
    "            reader = open(input_filename, \"r\")\n",
    "            \n",
    "            try:\n",
    "                file_content = reader.read()\n",
    "                \n",
    "                initial_info, start_state, final_state = split_file(file_content)\n",
    "                \n",
    "                self.color_combiantions, self.color_cost = self.parse_initial_info(initial_info)\n",
    "                \n",
    "                self.start_state = self.parse_start_state(start_state)\n",
    "                \n",
    "                self.final_state = self.parse_final_state(final_state)\n",
    "            except:\n",
    "                print(f\"Could not parse the file! Filename:{input_filename}\")\n",
    "                sys.exit(0)\n",
    "        except:\n",
    "            print(f\"Could not open the input file! Filename:{input_filename}\")\n",
    "            sys.exit(0)\n",
    "            \n",
    "    def split_file(file_content):\n",
    "        first_split = file_content.strip().split(\"start_state\")\n",
    "        second_split = first_split.strip().split(\"final_state\")\n",
    "        \n",
    "        initial_info = first_split[0].strip().split('\\n')\n",
    "        start_state = second_split[0].strip().split('\\n')\n",
    "        final_state = second_split[1].strip().split('\\n')\n",
    "        \n",
    "        return initial_info, start_state, final_state\n",
    "    \n",
    "    def parse_initial_info(initial_info):\n",
    "        color_combinations = list()\n",
    "        color_cost = dict()\n",
    "        \n",
    "        for line in initial_info:\n",
    "            content = line.split()\n",
    "            if len(content) == 2:\n",
    "                color_cost[content[0]] = int(content[1])\n",
    "            else:\n",
    "                color_combinations.append(tuple(content[0], content[1], content[2]))\n",
    "        return color_combinations, color_cost\n",
    "    \n",
    "    def parse_start_state(start_state):\n",
    "        state = []\n",
    "        count = 0\n",
    "        for line in start_state:\n",
    "            content = line.split()\n",
    "            if len(content) == 2:\n",
    "                state.append(tuple(count, int(content[0]), 0, None))\n",
    "            else:\n",
    "                if content[2] not in color_cost.keys():\n",
    "                    raise Exception\n",
    "                state.append(tuple(count, int(content[0]), int(content[1], content[2])))\n",
    "            count += 1\n",
    "        return state\n",
    "    \n",
    "    def parse_final_state(final_state):\n",
    "        state = []\n",
    "        for line in final_state:\n",
    "            content = line.split()\n",
    "            if content[1] not in color_cost.keys():\n",
    "                    raise Exception\n",
    "            state.append(tuple(int(content[0]),content[1]))\n",
    "        return state\n",
    "    \n",
    "    def find_distinct_colors(self):\n",
    "        found_colors = set()\n",
    "        for (color1, color2, color3) in self.color_combinations:\n",
    "            found_colors.append(color1)\n",
    "            found_colors.append(color2)        \n",
    "        return found_colors\n",
    "    \n",
    "    def count_combinations(self, info):\n",
    "        found_colors = self.find_distinct_colors()\n",
    "        number = 0\n",
    "        for color in found_colors:\n",
    "            for pot in info:\n",
    "                values = list(pot.values())\n",
    "                # \"Pot -> id = {values[0]}; color = {values[3]}; quantity = {values[2]}; capacity = {values[1]}\\n\"\n",
    "                if values[3] == color:\n",
    "                    number += 1\n",
    "                    break\n",
    "        return number\n",
    "            \n",
    "    def count_final(self, info):\n",
    "        number = 0\n",
    "        for (color1, color2, color3) in self.color_combinations:\n",
    "            for pot in info:\n",
    "                values = list(pot.values())\n",
    "                # \"Pot -> id = {values[0]}; color = {values[3]}; quantity = {values[2]}; capacity = {values[1]}\\n\"\n",
    "                if values[3] == color3:\n",
    "                    number += 1\n",
    "                    break\n",
    "        return number\n",
    "    \n",
    "    def check_final(self, info):\n",
    "        for (quantity, color) in self.final_state:\n",
    "            count_errors = 0\n",
    "            for pot in info:\n",
    "                values = list(pot.values())\n",
    "                if quantity > values[2]:\n",
    "                    count_errors += 1\n",
    "                if count_errors == len(info):\n",
    "                    return False\n",
    "        return True\n",
    "    \n",
    "    def check_node(self, info):\n",
    "        count_final_colors = self.count_final(info)\n",
    "        count_color_combinations = self.count_combinations(info)\n",
    "        check_final_state = self.check_final(info)\n",
    "        \n",
    "        if count_final_colors == len(self.color_combinations) and count_color_combinations == 0:\n",
    "            return True\n",
    "        elif count_final_colors == 0 and count_color_combinations >= 2:\n",
    "            return True\n",
    "        elif count_color_combinations != 0 and count_final_colors != 0:\n",
    "            return True\n",
    "        \n",
    "        return False\n",
    "    \n",
    "    \n",
    "        "
   ]
  }
 ],
 "metadata": {
  "kernelspec": {
   "display_name": "Python 3",
   "language": "python",
   "name": "python3"
  },
  "language_info": {
   "codemirror_mode": {
    "name": "ipython",
    "version": 3
   },
   "file_extension": ".py",
   "mimetype": "text/x-python",
   "name": "python",
   "nbconvert_exporter": "python",
   "pygments_lexer": "ipython3",
   "version": "3.7.12"
  },
  "papermill": {
   "default_parameters": {},
   "duration": 9.480571,
   "end_time": "2022-05-27T14:45:38.211365",
   "environment_variables": {},
   "exception": null,
   "input_path": "__notebook__.ipynb",
   "output_path": "__notebook__.ipynb",
   "parameters": {},
   "start_time": "2022-05-27T14:45:28.730794",
   "version": "2.3.4"
  }
 },
 "nbformat": 4,
 "nbformat_minor": 5
}
